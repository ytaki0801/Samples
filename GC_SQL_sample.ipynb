{
  "nbformat": 4,
  "nbformat_minor": 0,
  "metadata": {
    "colab": {
      "name": "GC-SQL-sample.ipynb",
      "provenance": [],
      "collapsed_sections": [],
      "authorship_tag": "ABX9TyPJDuuuKfQ9WzxEuGU4EKsX",
      "include_colab_link": true
    },
    "kernelspec": {
      "name": "python3",
      "display_name": "Python 3"
    }
  },
  "cells": [
    {
      "cell_type": "markdown",
      "metadata": {
        "id": "view-in-github",
        "colab_type": "text"
      },
      "source": [
        "<a href=\"https://colab.research.google.com/github/ytaki0801/Samples/blob/master/GC_SQL_sample.ipynb\" target=\"_parent\"><img src=\"https://colab.research.google.com/assets/colab-badge.svg\" alt=\"Open In Colab\"/></a>"
      ]
    },
    {
      "cell_type": "code",
      "metadata": {
        "colab": {
          "base_uri": "https://localhost:8080/"
        },
        "id": "o34mn7bndKI0",
        "outputId": "97117a84-805f-40c9-8285-12ef077ded4b"
      },
      "source": [
        "import sqlite3\r\n",
        "c = sqlite3.connect('sample.db')\r\n",
        "\r\n",
        "c.execute(\"drop table if exists test;\")\r\n",
        "c.execute(\"create table if not exists test (num1 int, num2 int, name varchar(50));\")\r\n",
        "\r\n",
        "c.execute(\"insert into test values (1, 2000401, 'Suzuki Ichiro');\")\r\n",
        "r = c.execute(\"select * from test;\")\r\n",
        "for i in r: print(i)\r\n",
        "\r\n",
        "c.commit()\r\n",
        "c.close()"
      ],
      "execution_count": 8,
      "outputs": [
        {
          "output_type": "stream",
          "text": [
            "(1, 2000401, 'Suzuki Ichiro')\n"
          ],
          "name": "stdout"
        }
      ]
    }
  ]
}